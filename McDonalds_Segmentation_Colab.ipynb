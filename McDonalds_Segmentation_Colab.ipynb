{
  "cells": [
    {
      "cell_type": "markdown",
      "metadata": {},
      "source": [
        "# \ud83e\udde0 McDonald's Brand Segmentation \u2013 Google Colab\n",
        "**Author:** Venkata Pranavi  \n",
        "**Organization:** Feynn Labs  \n",
        "**Task:** Market Segmentation using KMeans\n"
      ]
    },
    {
      "cell_type": "code",
      "execution_count": null,
      "metadata": {},
      "outputs": [],
      "source": [
        "# \u2705 STEP 1: Install and import required libraries\n",
        "!pip install -q seaborn\n",
        "import pandas as pd\n",
        "import numpy as np\n",
        "import seaborn as sns\n",
        "import matplotlib.pyplot as plt\n",
        "from sklearn.preprocessing import StandardScaler\n",
        "from sklearn.decomposition import PCA\n",
        "from sklearn.cluster import KMeans"
      ]
    },
    {
      "cell_type": "code",
      "execution_count": null,
      "metadata": {},
      "outputs": [],
      "source": [
        "# \u2705 STEP 2: Upload your dataset (CSV with YES/NO attributes)\n",
        "from google.colab import files\n",
        "uploaded = files.upload()\n",
        "df = pd.read_csv(next(iter(uploaded)))  # load first uploaded file\n",
        "df.head()"
      ]
    },
    {
      "cell_type": "code",
      "execution_count": null,
      "metadata": {},
      "outputs": [],
      "source": [
        "# \u2705 STEP 3: Convert YES/NO to 1/0 for brand attributes\n",
        "brand_cols = ['YUMMY', 'GREASY', 'CHEAP', 'HEALTHY', 'DISGUSTING']\n",
        "df[brand_cols] = df[brand_cols].applymap(lambda x: 1 if x == 'YES' else 0)\n",
        "df[brand_cols].head()"
      ]
    },
    {
      "cell_type": "code",
      "execution_count": null,
      "metadata": {},
      "outputs": [],
      "source": [
        "# \u2705 STEP 4: Scale features and apply PCA for visualization\n",
        "X = df[brand_cols]\n",
        "X_scaled = StandardScaler().fit_transform(X)\n",
        "pca = PCA(n_components=2)\n",
        "X_pca = pca.fit_transform(X_scaled)\n",
        "\n",
        "plt.figure(figsize=(8,6))\n",
        "sns.scatterplot(x=X_pca[:, 0], y=X_pca[:, 1])\n",
        "plt.title('PCA of Brand Perceptions')\n",
        "plt.xlabel('PC1')\n",
        "plt.ylabel('PC2')\n",
        "plt.grid(True)\n",
        "plt.show()"
      ]
    },
    {
      "cell_type": "code",
      "execution_count": null,
      "metadata": {},
      "outputs": [],
      "source": [
        "# \u2705 STEP 5: Apply KMeans Clustering\n",
        "kmeans = KMeans(n_clusters=2, random_state=42)\n",
        "df['segment'] = kmeans.fit_predict(X_scaled)\n",
        "sns.countplot(x='segment', data=df)\n",
        "plt.title('Segment Distribution')\n",
        "plt.show()"
      ]
    },
    {
      "cell_type": "code",
      "execution_count": null,
      "metadata": {},
      "outputs": [],
      "source": [
        "# \u2705 STEP 6: Profile Segments by Attributes\n",
        "df.groupby('segment')[brand_cols].mean().T.plot(kind='bar', figsize=(10, 5))\n",
        "plt.title('Attribute Profile by Segment')\n",
        "plt.ylabel('Average Response')\n",
        "plt.xticks(rotation=45)\n",
        "plt.grid(True)\n",
        "plt.tight_layout()\n",
        "plt.show()"
      ]
    }
  ],
  "metadata": {
    "colab": {
      "name": "McDonalds_Segmentation_Colab.ipynb",
      "provenance": []
    },
    "kernelspec": {
      "display_name": "Python 3",
      "language": "python",
      "name": "python3"
    },
    "language_info": {
      "name": "python"
    }
  },
  "nbformat": 4,
  "nbformat_minor": 0
}